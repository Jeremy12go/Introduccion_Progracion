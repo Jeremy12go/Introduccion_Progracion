{
 "cells": [
  {
   "metadata": {},
   "cell_type": "markdown",
   "source": "**¡Se debe seguir la linea de ejecución (Ejecutar en orden los códigos)!**",
   "id": "2a6b057610cee6b7"
  },
  {
   "metadata": {},
   "cell_type": "markdown",
   "source": "# **Ciclos**",
   "id": "55b181406abab07a"
  },
  {
   "metadata": {},
   "cell_type": "markdown",
   "source": "Los ciclos son estructuras de flujo de control al igual que *if*, *elif* y *else*. Estas estructuras se centran en repetir el bloque de codigo que contienen dada una condición de termino. Además estos *iteran* (recorren) datos como listas, cadenas, arreglos, etc, por medio una variable *iterador*.",
   "id": "df050df47283e685"
  },
  {
   "metadata": {},
   "cell_type": "markdown",
   "source": "### **Ciclo while**",
   "id": "53d58e1b016a0407"
  },
  {
   "metadata": {},
   "cell_type": "code",
   "source": [
    "condicion = True\n",
    "while (condicion):\n",
    "    #bloque de código\n",
    "    print(\"bloque de codigo\")"
   ],
   "id": "30dc8ca7b199a739",
   "outputs": [],
   "execution_count": null
  },
  {
   "metadata": {},
   "cell_type": "markdown",
   "source": "*While* además de tener una condición de funcionamiento, necesita que dicha condición cambie en algún punto, dado que si **no** cambia tendremos un ciclo de indeterminadas iteraciones, es así que un *While* necesita una condición de cambio de la condicional.",
   "id": "e76aeb655b2ecfe4"
  },
  {
   "metadata": {},
   "cell_type": "code",
   "source": [
    "indice = 0\n",
    "limite = 10\n",
    "while (indice < limite):\n",
    "    #bloque de código\n",
    "    print(indice)\n",
    "    indice += 1 #condicion de cambio"
   ],
   "id": "411dd3a597852c05",
   "outputs": [],
   "execution_count": null
  },
  {
   "metadata": {},
   "cell_type": "markdown",
   "source": "### **Ciclo while anidado**",
   "id": "dc41000c0cfd44e6"
  },
  {
   "metadata": {},
   "cell_type": "markdown",
   "source": "De igual forma que estructuras de control se anidan, los ciclos tambien lo hacen.",
   "id": "31c84a9e79e31512"
  },
  {
   "metadata": {},
   "cell_type": "code",
   "source": [
    "limite = 3\n",
    "indice_exterior = 1\n",
    "while (indice_exterior < limite):\n",
    "    indice_interior = 1\n",
    "    while (indice_interior < limite):\n",
    "        #bloque de código\n",
    "        print(f\"i:{indice_exterior} j:{indice_interior} ; i*j={indice_exterior*indice_interior}\")\n",
    "        indice_interior += 1 #condición de cambio del ciclo interior\n",
    "    indice_exterior += 1 #condición de cambio del ciclo exterior"
   ],
   "id": "64fc16d9323c588",
   "outputs": [],
   "execution_count": null
  },
  {
   "metadata": {},
   "cell_type": "markdown",
   "source": "### **Ciclo for**",
   "id": "10ea74e8c1514a7e"
  },
  {
   "metadata": {},
   "cell_type": "markdown",
   "source": "#### **Estructuras de for mas comunes**",
   "id": "6ee29639537adf56"
  },
  {
   "metadata": {},
   "cell_type": "code",
   "source": [
    "for i in range(10): #i itera de 0 hasta 9\n",
    "    print(f\"i:{i}\")"
   ],
   "id": "6e62f9678174f893",
   "outputs": [],
   "execution_count": null
  },
  {
   "metadata": {},
   "cell_type": "code",
   "source": [
    "inicio = 0\n",
    "fin = 10\n",
    "paso = 1 # como aumenta la iteración\n",
    "for i in range(inicio, fin, paso): #i itera de 0 hasta 9\n",
    "    print(f\"i:{i}\")"
   ],
   "id": "fc735b2f9a265352",
   "outputs": [],
   "execution_count": null
  },
  {
   "metadata": {},
   "cell_type": "markdown",
   "source": "A diferencia de *While*, *for* (python) no permite mantener un ciclo de iteraciones indeterminadas, es así que generalmente *for* se utiliza para iterar elementos en donde sabemos cuantas iteraciones se realizaran. Pero en la mayoria de casos es a gusto del programador cual utilizar. Tambien *for* no necesita una condicion de cambio dentro del codigo que contiene.",
   "id": "62800d48c268964d"
  },
  {
   "metadata": {},
   "cell_type": "markdown",
   "source": "### **Ciclo for anidado**",
   "id": "c9f4cd96d05a06de"
  },
  {
   "metadata": {},
   "cell_type": "code",
   "source": [
    "for i in range(1,4,1): #i itera de 0 hasta 3\n",
    "    for j in range(1,4,1): #j itera de 0 hasta 3\n",
    "        #bloque de código\n",
    "        print(f\"i:{i} j:{j} ; i*j={i*j}\")"
   ],
   "id": "b4d89bd23cae1dea",
   "outputs": [],
   "execution_count": null
  },
  {
   "metadata": {},
   "cell_type": "markdown",
   "source": "# **Listas**",
   "id": "2314cdbc5a62cdda"
  },
  {
   "metadata": {},
   "cell_type": "markdown",
   "source": "La lista es una estructura de datos que permite almacenar múltiples elementos de una sola variable, con la capacidad de tener dimensión mutable (agregar y quitar elementos), sin orden alguno y con elementos duplicados. Teniendo un indice cada elemento, comenzando de 0 hasta n.",
   "id": "55d6cd8fc88ed911"
  },
  {
   "metadata": {},
   "cell_type": "markdown",
   "source": [
    "**Indices de los elementos en la lista**\n",
    "<div style=\"text-align:center;\">\n",
    "    <img src=\"I_rectaElementos_Listas.png\" alt=\"Texto alternativo\">\n",
    "</div>"
   ],
   "id": "568acaf166b1312a"
  },
  {
   "metadata": {},
   "cell_type": "markdown",
   "source": "### **Declarar listas y metodo len()**",
   "id": "2a9c52af06f3568f"
  },
  {
   "metadata": {},
   "cell_type": "code",
   "source": [
    "lista_A = [1,2,3,4,5,6,7,8,9,10]\n",
    "lista_B = ['a', 'b', 'c', 'd', 'e', 'f', 'g', 'h', 'i', 'j']\n",
    "lista_C = [1.2, \"Perro\", 'K', 20, True]\n",
    "\n",
    "print(f\"largo lista_A:{len(lista_A)} -- largo lista_B:{len(lista_B)} -- largo lista_C:{len(lista_C)}\")"
   ],
   "id": "d19830cf81503b62",
   "outputs": [],
   "execution_count": null
  },
  {
   "metadata": {},
   "cell_type": "markdown",
   "source": "### **Acceder a los elementos de la lista**",
   "id": "6c55e726068a2984"
  },
  {
   "metadata": {},
   "cell_type": "code",
   "source": [
    "largo_lista_C = len(lista_C)\n",
    "print(f\"primer elemento de C:{lista_C[0]} -- ultimo elemento de A:{lista_C[largo_lista_C-1]}\")\n",
    "print(f\"largo lista_C:{largo_lista_C} != ultimo indice_C:{largo_lista_C-1}\")"
   ],
   "id": "28e3487b0aa0cf8b",
   "outputs": [],
   "execution_count": null
  },
  {
   "metadata": {},
   "cell_type": "markdown",
   "source": "Notar que el largo es distinto que el indice del ultimo elemento y intentar acceder a un indice no existente en la lista causa error en la ejecución",
   "id": "374b3db6bbaa788d"
  },
  {
   "metadata": {},
   "cell_type": "markdown",
   "source": "### **Iterar listas**",
   "id": "d6e7cc6209631a11"
  },
  {
   "metadata": {},
   "cell_type": "markdown",
   "source": "#### **Estructura para iterar una lista:** Por medio de un ciclo se puede iterar la lista",
   "id": "3338db4103c84add"
  },
  {
   "metadata": {},
   "cell_type": "markdown",
   "source": "Con ciclo *While*:",
   "id": "6fcfb26571083d26"
  },
  {
   "metadata": {},
   "cell_type": "code",
   "source": [
    "lista = lista_C\n",
    "largo = len(lista)\n",
    "i = 0\n",
    "while i < largo:\n",
    "    #bloque de código\n",
    "    print(f\"lista[{i}]: {lista[i]}\")\n",
    "    i+=1 #condición de cambio del ciclo"
   ],
   "id": "a7eb3cabf919cfe2",
   "outputs": [],
   "execution_count": null
  },
  {
   "metadata": {},
   "cell_type": "markdown",
   "source": "Con ciclo *for*, python al tener estructuras distintas para el for ofrece la posibilidad de recorrer varias lista a la vez:",
   "id": "2a0090789d29ecf7"
  },
  {
   "metadata": {},
   "cell_type": "markdown",
   "source": "**1. Una lista**",
   "id": "662348701d9a38e0"
  },
  {
   "metadata": {},
   "cell_type": "code",
   "source": [
    "def imprimir_lista(lista):\n",
    "    for i in lista:\n",
    "        print(f\"{i}\")\n",
    "imprimir_lista(lista)"
   ],
   "id": "36ada973a44b9cea",
   "outputs": [],
   "execution_count": null
  },
  {
   "metadata": {},
   "cell_type": "markdown",
   "source": "**2. n listas**, considerar que el ciclo termina en relación a la lista mas corta",
   "id": "3707d46f9fee087f"
  },
  {
   "metadata": {},
   "cell_type": "code",
   "source": [
    "for i, j, k in zip(lista_A,lista_B,lista_C):\n",
    "    print(f\"{i} -- {j} -- {k}\")"
   ],
   "id": "892b9d70f48c78e5",
   "outputs": [],
   "execution_count": null
  },
  {
   "metadata": {},
   "cell_type": "markdown",
   "source": "### **Agregar y eliminar a una lista**",
   "id": "b4caee03c28554ec"
  },
  {
   "metadata": {},
   "cell_type": "markdown",
   "source": "Para agregar o eliminar elementos de una lista se utilizan metodos, los principales son append() y pop() respectivamente.",
   "id": "21ceabb2a15c044a"
  },
  {
   "metadata": {},
   "cell_type": "code",
   "source": [
    "lista.append(\"NuevoAlemento\") #agrega el elemento al final de la lista\n",
    "imprimir_lista(lista)"
   ],
   "id": "a3a50369652a2c92",
   "outputs": [],
   "execution_count": null
  },
  {
   "metadata": {},
   "cell_type": "code",
   "source": [
    "lista.pop() #elimina el ultimo elemento en la lista\n",
    "imprimir_lista(lista)"
   ],
   "id": "26dd2e65b81713e4",
   "outputs": [],
   "execution_count": null
  },
  {
   "metadata": {},
   "cell_type": "markdown",
   "source": "Ademas, existen otros metodos de utilidad para trabajar con las listas **(Los profes no dejan usar por ahora)**:",
   "id": "423766fdb0eaf601"
  },
  {
   "metadata": {},
   "cell_type": "code",
   "source": [
    "lista_B.extend(lista_A) #unes dos listas\n",
    "imprimir_lista(lista_B)"
   ],
   "id": "9f4fa5f6c28b2700",
   "outputs": [],
   "execution_count": null
  },
  {
   "metadata": {},
   "cell_type": "code",
   "source": [
    "lista_B.clear() #elimina todos los elementos de la lista\n",
    "imprimir_lista(lista_B)"
   ],
   "id": "f99fc4d41cb110f2",
   "outputs": [],
   "execution_count": null
  },
  {
   "metadata": {},
   "cell_type": "code",
   "source": [
    "cuenta = lista.count(\"Perro\") #devuelve las veces que se repite un elemento\n",
    "print(cuenta)"
   ],
   "id": "8e8e1927a3555662",
   "outputs": [],
   "execution_count": null
  },
  {
   "metadata": {},
   "cell_type": "code",
   "source": [
    "cuenta = lista.index(\"Perro\") #devuelve el indice de un elemento\n",
    "print(cuenta)"
   ],
   "id": "89d132bc3cb03aa7",
   "outputs": [],
   "execution_count": null
  },
  {
   "metadata": {},
   "cell_type": "code",
   "source": [
    "indice = 3\n",
    "lista.insert(indice,451) #insertar 451 en la posición del indice (3)\n",
    "imprimir_lista(lista)"
   ],
   "id": "f122b50da9ad92c4",
   "outputs": [],
   "execution_count": null
  },
  {
   "metadata": {},
   "cell_type": "code",
   "source": [
    "lista.remove(3) #elimina el elemento 3 de la primera posición que encuentre\n",
    "imprimir_lista(lista)"
   ],
   "id": "6e23e6c613deed70",
   "outputs": [],
   "execution_count": null
  },
  {
   "metadata": {},
   "cell_type": "code",
   "source": [
    "lista.reverse() #invierte la lista\n",
    "imprimir_lista(lista)"
   ],
   "id": "7720185c2b116da",
   "outputs": [],
   "execution_count": null
  },
  {
   "metadata": {},
   "cell_type": "code",
   "source": [
    "lista_A.sort(reverse=True) #ordena de mayor a menor la lista\n",
    "imprimir_lista(lista_A)"
   ],
   "id": "37b2649d1401478",
   "outputs": [],
   "execution_count": null
  },
  {
   "metadata": {},
   "cell_type": "code",
   "source": [
    "lista.sort() #ordena la menor a mayor la lista\n",
    "imprimir_lista(lista_A)"
   ],
   "id": "55e90c4a783d4a62",
   "outputs": [],
   "execution_count": null
  },
  {
   "metadata": {},
   "cell_type": "markdown",
   "source": "# **Matrices**",
   "id": "48ccfc21941abe71"
  },
  {
   "metadata": {},
   "cell_type": "markdown",
   "source": "Las matrices basicamente son listas dentro de una lista, manejables de la misma forma que las listas y con las mismas propiedades. Existen matrices cuadradas, rectangulares y irregulares (Diferentes tamaños en las listas contenidas).",
   "id": "991479638b884665"
  },
  {
   "metadata": {},
   "cell_type": "markdown",
   "source": [
    "**Indices de la matriz**\n",
    "\n",
    "<div style=\"text-align:center;\">\n",
    "    <img src=\"I_indicesElementos_Matrices.png\" alt=\"Texto alternativo\">\n",
    "</div>"
   ],
   "id": "c017c8ef214df696"
  },
  {
   "metadata": {},
   "cell_type": "markdown",
   "source": "Al igual que una lista tiene su indice, una matriz tiene además un segundo indice. Siendo el primer indice referente a la lista padre (contiene las listas), fila y el segundo indice referente a la lista hija (contenida), columna.",
   "id": "8e1a3844656c5648"
  },
  {
   "metadata": {},
   "cell_type": "markdown",
   "source": "### **Declarar listas y metodo len()**",
   "id": "c298332d59201e9f"
  },
  {
   "metadata": {},
   "cell_type": "code",
   "source": [
    "matriz_1 = [['A','B','C','D'],\n",
    "            ['E','F','G','H'],\n",
    "            ['I','J','K','L']]\n",
    "matriz_2 = [[1,2],[3,4]]\n",
    "\n",
    "print(f\"Largo matriz:{len(matriz_1)} -- largo primera lista de la matriz:{len(matriz_1[0])}\")"
   ],
   "id": "14f63b8ec090c48",
   "outputs": [],
   "execution_count": null
  },
  {
   "metadata": {},
   "cell_type": "markdown",
   "source": "### **Acceder a los elementos de la matriz**",
   "id": "ca93d48aea5f08b1"
  },
  {
   "metadata": {},
   "cell_type": "code",
   "source": [
    "filas = len(matriz_1)\n",
    "columnas = len(matriz_1[0])\n",
    "\n",
    "print(f\"primer elemento de la matriz[0][0]: {matriz_1[0][0]} -- ultimo elemento de la matriz[{filas-1}][{columnas-1}]: {matriz_1[filas-1][columnas-1]}\")"
   ],
   "id": "a25b74ea2670342d",
   "outputs": [],
   "execution_count": null
  },
  {
   "metadata": {},
   "cell_type": "markdown",
   "source": "### **Iterar Matrices**",
   "id": "40a62608846c3e86"
  },
  {
   "metadata": {},
   "cell_type": "markdown",
   "source": "Como para iterar una lista necesitamos un ciclo, para iterar una matriz necesitamos dos ciclos, con un indice para las filas y un indice para las columnas.",
   "id": "8aa15e1e7bfc5045"
  },
  {
   "metadata": {},
   "cell_type": "markdown",
   "source": "Con ciclo *While*:",
   "id": "bf81cbd20b19f31d"
  },
  {
   "metadata": {},
   "cell_type": "code",
   "source": [
    "i = 0\n",
    "while i < filas:\n",
    "    j = 0\n",
    "    print(\"|\", end=\"\")\n",
    "    while j < columnas:\n",
    "        print(f\"{matriz_1[i][j]}|\", end=\"\")\n",
    "        j+=1\n",
    "    print()\n",
    "    i+=1"
   ],
   "id": "6db3180f9fc2ce21",
   "outputs": [],
   "execution_count": null
  },
  {
   "metadata": {},
   "cell_type": "markdown",
   "source": "Con ciclo *for*:",
   "id": "480470462697a9fd"
  },
  {
   "metadata": {},
   "cell_type": "code",
   "source": [
    "def imprimir_matriz(matriz):\n",
    "    filas = len(matriz)\n",
    "    columnas = len(matriz[0])\n",
    "    for i in range(filas):\n",
    "        print(\"|\", end=\"\")\n",
    "        for j in range(columnas):\n",
    "            print(f\"{matriz[i][j]}|\", end=\"\")\n",
    "        print()\n",
    "imprimir_matriz(matriz_1)"
   ],
   "id": "beba243efee7ad56",
   "outputs": [],
   "execution_count": null
  },
  {
   "metadata": {},
   "cell_type": "markdown",
   "source": "### **Crear una matriz de *n*x*m***",
   "id": "449a0f11e38bf2a9"
  },
  {
   "metadata": {},
   "cell_type": "markdown",
   "source": "Con ciclo *While*",
   "id": "64e5184ef70b38fd"
  },
  {
   "metadata": {},
   "cell_type": "code",
   "source": [
    "def crear_matriz(m,n):\n",
    "    lista_padre = []\n",
    "    valor = 0\n",
    "    i = 0\n",
    "    while(i < m):\n",
    "        j=0\n",
    "        lista_hija = []\n",
    "        while( j < n ):\n",
    "            lista_hija.append(valor)\n",
    "            valor+=1\n",
    "            j+=1\n",
    "        lista_padre.append(lista_hija)\n",
    "        i+=1\n",
    "    return lista_padre\n",
    "matriz_nueva = crear_matriz(3,3)\n",
    "imprimir_matriz(matriz_nueva)"
   ],
   "id": "1ce012601055fa0e",
   "outputs": [],
   "execution_count": null
  },
  {
   "metadata": {},
   "cell_type": "markdown",
   "source": "Con ciclo *for*",
   "id": "7ee55b6c216ac655"
  },
  {
   "metadata": {},
   "cell_type": "code",
   "source": [
    "def crear_matriz(m,n):\n",
    "    lista_padre = []\n",
    "    valor = 0\n",
    "    for i in range(m):\n",
    "        lista_hija = []\n",
    "        for j in range(n):\n",
    "            lista_hija.append(valor)\n",
    "            valor+=1\n",
    "        lista_padre.append(lista_hija)\n",
    "    return lista_padre\n",
    "matriz_nueva = crear_matriz(3,3)\n",
    "imprimir_matriz(matriz_nueva)"
   ],
   "id": "c77bd541777b447d",
   "outputs": [],
   "execution_count": null
  },
  {
   "metadata": {},
   "cell_type": "markdown",
   "source": "### **Ejercicios de listas y matrices**",
   "id": "4f91104d63538421"
  },
  {
   "metadata": {},
   "cell_type": "markdown",
   "source": "#### Determinar si un elemento n esta contenido en una matriz",
   "id": "d639319e06811615"
  },
  {
   "metadata": {},
   "cell_type": "code",
   "source": [
    "def encontrar_N_Matriz(n, matriz):\n",
    "    condicion = False\n",
    "    i = 0\n",
    "    while i < filas:\n",
    "        j = 0\n",
    "        while j < columnas:\n",
    "            if(matriz[i][j] == n):\n",
    "                condicion = True\n",
    "            j+=1\n",
    "        i+=1\n",
    "    if(condicion):\n",
    "        print(f\"Se ha encontrado {n} en la matriz\")\n",
    "    else:\n",
    "        print(f\"No se ha encontrado {n} en la matriz\")\n",
    "encontrar_N_Matriz('L', matriz_1)"
   ],
   "id": "b118a7e3e2a9bfdc",
   "outputs": [],
   "execution_count": null
  },
  {
   "metadata": {},
   "cell_type": "markdown",
   "source": "#### Determinar si los elementos de una lista esta contenida en una matriz",
   "id": "604cacd95b9fc454"
  },
  {
   "metadata": {},
   "cell_type": "code",
   "source": [
    "def encontrar_Lista_Matriz(lista, matriz):\n",
    "    contador = 0\n",
    "    i = 0\n",
    "    while i < filas:\n",
    "        j = 0\n",
    "        while j < columnas:\n",
    "            k = 0\n",
    "            while k < len(lista):\n",
    "                if(matriz[i][j] == lista[k]):\n",
    "                    contador+=1\n",
    "                k+=1\n",
    "            j+=1\n",
    "        i+=1\n",
    "    if(contador>=len(lista)):\n",
    "        print(f\"Se han encontrardo los elementos de la lista en la matriz\")\n",
    "    else:\n",
    "        print(f\"No se han encontrardo los elementos de la lista en la matriz\")\n",
    "\n",
    "lista = ['A','Ñ','F']\n",
    "imprimir_matriz(matriz_1)\n",
    "encontrar_Lista_Matriz(lista, matriz_1)"
   ],
   "id": "fc8068cba9cfdb37",
   "outputs": [],
   "execution_count": null
  },
  {
   "metadata": {},
   "cell_type": "markdown",
   "source": "Notar que al estar trabajando con una matriz necesitamos dos índices ósea dos ciclos y al trabajar con una listar aparte es necesario otro índice para iterar la lista, ósea otro ciclo. Entonces si tuviéramos que encontrar paridad entre dos matrices necesitaríamos cuatro iteradores por ende 4 ciclos",
   "id": "684d9065473ff5f9"
  },
  {
   "metadata": {},
   "cell_type": "markdown",
   "source": "#### Imprimir los posibles movimientos de un caballo de ajedez, que esta ubicado dentro de una tablero (matriz) de dimension variable, considerenado que el caballo puede posicionarse en cualquier punto del tablero",
   "id": "c5e60624574ad646"
  },
  {
   "metadata": {
    "ExecuteTime": {
     "end_time": "2024-06-14T22:16:58.943057Z",
     "start_time": "2024-06-14T22:16:58.926053Z"
    }
   },
   "cell_type": "code",
   "source": [
    "def crear_tablero_de_juego(filas, columnas):\n",
    "    tablero = []\n",
    "\n",
    "    i = 0\n",
    "    while i < filas:\n",
    "        lista_agregar = []\n",
    "        j = 0\n",
    "        while j < columnas:\n",
    "            lista_agregar.append(\" \")\n",
    "            j = j + 1\n",
    "        i = i + 1\n",
    "        tablero.append(lista_agregar)\n",
    "    return tablero\n",
    "\n",
    "def ingresar_caballo_tablero(posX, posY, tablero):\n",
    "    #validar ubicacion\n",
    "    largo = len(tablero)\n",
    "    ancho = len(tablero[0])\n",
    "    if(( 0 <= posX and posX < largo) and (0 <= posY and posY < ancho)):\n",
    "        for i in range(largo):\n",
    "            for j in range(ancho):\n",
    "                if((i == posX) and (j == posY)):\n",
    "                    tablero[i][j] = \"C\"\n",
    "        return tablero\n",
    "    else:\n",
    "        print(\"Las coordenadas no son validas\")\n",
    "        return tablero\n",
    "\n",
    "def determinar_posicion_caballo(matriz):\n",
    "    coordenadas = []\n",
    "    for i in range(len(matriz)):\n",
    "        for j in range(len(matriz[0])):\n",
    "            if matriz[i][j] == \"C\":\n",
    "                coordenadas.append(i)\n",
    "                coordenadas.append(j)\n",
    "                return coordenadas\n",
    "\n",
    "def imprimir(matriz):\n",
    "    for i in range(len(matriz)):\n",
    "        print(\"|\", end=\"\")\n",
    "        for j in range(len(matriz[0])):\n",
    "            print(matriz[i][j], end=\"|\")\n",
    "        print()\n",
    "\n",
    "def movimientos_caballos(tablero):\n",
    "    movimiento_bueno = \"X\"\n",
    "    largoX = len(tablero[0])\n",
    "    largoY = len(tablero)\n",
    "    coordenadas = determinar_posicion_caballo(tablero)\n",
    "\n",
    "    #Desplazamientos\n",
    "    arriba = coordenadas[0] - 2\n",
    "    abajo = coordenadas[1] + 2\n",
    "    derecha = coordenadas[0] + 2\n",
    "    izquierda = coordenadas[1] - 2\n",
    "\n",
    "    i = 0\n",
    "    while i < largoY:\n",
    "        j = 0\n",
    "        while j < largoX:\n",
    "            #Movimiento hacia arriba\n",
    "            if arriba >= 0:\n",
    "                #Movimiento L izquierda\n",
    "                if coordenadas[0] - 1 > 0:\n",
    "                    tablero[arriba][coordenadas[0]-1] = movimiento_bueno\n",
    "                #Movimiento L derecha\n",
    "                if coordenadas[0] + 1 < largoX:\n",
    "                    tablero[arriba][coordenadas[0]+1] = movimiento_bueno\n",
    "                    \n",
    "            #Movimiento hacia abajo\n",
    "            if abajo < largoY:\n",
    "                #Movimiento L izquierda\n",
    "                if coordenadas[0] - 1 > 0:\n",
    "                    tablero[abajo][coordenadas[0]-1] = movimiento_bueno\n",
    "                #Movimiento L derecha\n",
    "                if coordenadas[0] + 1 < largoX:\n",
    "                    tablero[abajo][coordenadas[0]+1] = movimiento_bueno\n",
    "                    \n",
    "            #Movimiento derecha\n",
    "            if derecha < largoX:\n",
    "                #Movimiento L arriba\n",
    "                if coordenadas[1] - 1 > 0:\n",
    "                    tablero[coordenadas[1]-1][derecha] = movimiento_bueno\n",
    "                #Movimiento L abajo\n",
    "                if coordenadas[1] + 1 < largoY:\n",
    "                    tablero[coordenadas[1]+1][derecha] = movimiento_bueno\n",
    "                    \n",
    "            #Movimiento izquierda\n",
    "            if izquierda >= 0:\n",
    "                #Movimiento L arriba\n",
    "                if coordenadas[1] - 1 >= 0:\n",
    "                    tablero[coordenadas[1]-1][izquierda] = movimiento_bueno\n",
    "                #Movimiento L abajo\n",
    "                if coordenadas[1] + 1 < largoY:\n",
    "                    tablero[coordenadas[1]+1][izquierda] = movimiento_bueno\n",
    "                    \n",
    "            j = j + 1\n",
    "        i = i + 1\n",
    "    return tablero\n",
    "\n",
    "print(\"Crear tablero:\")\n",
    "matriz = crear_tablero_de_juego(5,5)\n",
    "imprimir(matriz)\n",
    "print(\"\\n\" * 2)\n",
    "\n",
    "print(\"Agregar caballo al tablero:\")\n",
    "matriz = ingresar_caballo_tablero(2,2,matriz)\n",
    "imprimir(matriz)\n",
    "print(\"\\n\" * 2)\n",
    "\n",
    "print(\"Movimientos del caballo en el tablero:\")\n",
    "matriz = movimientos_caballos(matriz)\n",
    "imprimir(matriz)"
   ],
   "id": "6a69d6289022a766",
   "outputs": [
    {
     "name": "stdout",
     "output_type": "stream",
     "text": [
      "Crear tablero:\n",
      "| | | | | |\n",
      "| | | | | |\n",
      "| | | | | |\n",
      "| | | | | |\n",
      "| | | | | |\n",
      "\n",
      "\n",
      "\n",
      "Agregar caballo al tablero:\n",
      "| | | | | |\n",
      "| | | | | |\n",
      "| | |C| | |\n",
      "| | | | | |\n",
      "| | | | | |\n",
      "\n",
      "\n",
      "\n",
      "Agregar caballo al tablero:\n",
      "| |X| |X| |\n",
      "|X| | | |X|\n",
      "| | |C| | |\n",
      "|X| | | |X|\n",
      "| |X| |X| |\n"
     ]
    }
   ],
   "execution_count": 2
  },
  {
   "metadata": {},
   "cell_type": "markdown",
   "source": "#### Hacer el juego del gato",
   "id": "2d115de9491bf329"
  },
  {
   "metadata": {},
   "cell_type": "code",
   "outputs": [],
   "execution_count": null,
   "source": "",
   "id": "3287866daf14f381"
  }
 ],
 "metadata": {
  "kernelspec": {
   "display_name": "Python 3",
   "language": "python",
   "name": "python3"
  },
  "language_info": {
   "codemirror_mode": {
    "name": "ipython",
    "version": 2
   },
   "file_extension": ".py",
   "mimetype": "text/x-python",
   "name": "python",
   "nbconvert_exporter": "python",
   "pygments_lexer": "ipython2",
   "version": "2.7.6"
  }
 },
 "nbformat": 4,
 "nbformat_minor": 5
}
